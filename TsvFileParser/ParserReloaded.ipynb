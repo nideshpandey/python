{
  "cells": [
    {
      "cell_type": "code",
      "source": [
        "from google.colab import drive\n",
        "drive.mount('/content/drive')"
      ],
      "metadata": {
        "colab": {
          "base_uri": "https://localhost:8080/"
        },
        "id": "euF-L76_6xDx",
        "outputId": "b3f0d809-81cd-4192-f350-77393c2e24f4"
      },
      "id": "euF-L76_6xDx",
      "execution_count": 1,
      "outputs": [
        {
          "output_type": "stream",
          "name": "stdout",
          "text": [
            "Mounted at /content/drive\n"
          ]
        }
      ]
    },
    {
      "cell_type": "code",
      "execution_count": 33,
      "id": "87d57317",
      "metadata": {
        "id": "87d57317"
      },
      "outputs": [],
      "source": [
        "import pandas as pd"
      ]
    },
    {
      "cell_type": "markdown",
      "source": [
        "# BELOW HERE FOR TRAIN DATASET"
      ],
      "metadata": {
        "id": "4JHYok8Qgay_"
      },
      "id": "4JHYok8Qgay_"
    },
    {
      "cell_type": "code",
      "execution_count": 34,
      "id": "efde3b9e",
      "metadata": {
        "id": "efde3b9e"
      },
      "outputs": [],
      "source": [
        "df_train = pd.read_csv('/content/train.tsv', sep = '\\t', usecols = ['path'])"
      ]
    },
    {
      "cell_type": "code",
      "execution_count": 35,
      "id": "8f8d1087",
      "metadata": {
        "colab": {
          "base_uri": "https://localhost:8080/",
          "height": 206
        },
        "id": "8f8d1087",
        "outputId": "482e944f-6436-48d6-b867-fbabf7c536e7"
      },
      "outputs": [
        {
          "output_type": "execute_result",
          "data": {
            "text/plain": [
              "                     path\n",
              "0   common_voice_en_10110\n",
              "1   common_voice_en_10153\n",
              "2  common_voice_en_101622\n",
              "3   common_voice_en_10187\n",
              "4   common_voice_en_10199"
            ],
            "text/html": [
              "\n",
              "  <div id=\"df-a41c38ca-3860-43e7-9744-f0a5f6c58df0\">\n",
              "    <div class=\"colab-df-container\">\n",
              "      <div>\n",
              "<style scoped>\n",
              "    .dataframe tbody tr th:only-of-type {\n",
              "        vertical-align: middle;\n",
              "    }\n",
              "\n",
              "    .dataframe tbody tr th {\n",
              "        vertical-align: top;\n",
              "    }\n",
              "\n",
              "    .dataframe thead th {\n",
              "        text-align: right;\n",
              "    }\n",
              "</style>\n",
              "<table border=\"1\" class=\"dataframe\">\n",
              "  <thead>\n",
              "    <tr style=\"text-align: right;\">\n",
              "      <th></th>\n",
              "      <th>path</th>\n",
              "    </tr>\n",
              "  </thead>\n",
              "  <tbody>\n",
              "    <tr>\n",
              "      <th>0</th>\n",
              "      <td>common_voice_en_10110</td>\n",
              "    </tr>\n",
              "    <tr>\n",
              "      <th>1</th>\n",
              "      <td>common_voice_en_10153</td>\n",
              "    </tr>\n",
              "    <tr>\n",
              "      <th>2</th>\n",
              "      <td>common_voice_en_101622</td>\n",
              "    </tr>\n",
              "    <tr>\n",
              "      <th>3</th>\n",
              "      <td>common_voice_en_10187</td>\n",
              "    </tr>\n",
              "    <tr>\n",
              "      <th>4</th>\n",
              "      <td>common_voice_en_10199</td>\n",
              "    </tr>\n",
              "  </tbody>\n",
              "</table>\n",
              "</div>\n",
              "      <button class=\"colab-df-convert\" onclick=\"convertToInteractive('df-a41c38ca-3860-43e7-9744-f0a5f6c58df0')\"\n",
              "              title=\"Convert this dataframe to an interactive table.\"\n",
              "              style=\"display:none;\">\n",
              "        \n",
              "  <svg xmlns=\"http://www.w3.org/2000/svg\" height=\"24px\"viewBox=\"0 0 24 24\"\n",
              "       width=\"24px\">\n",
              "    <path d=\"M0 0h24v24H0V0z\" fill=\"none\"/>\n",
              "    <path d=\"M18.56 5.44l.94 2.06.94-2.06 2.06-.94-2.06-.94-.94-2.06-.94 2.06-2.06.94zm-11 1L8.5 8.5l.94-2.06 2.06-.94-2.06-.94L8.5 2.5l-.94 2.06-2.06.94zm10 10l.94 2.06.94-2.06 2.06-.94-2.06-.94-.94-2.06-.94 2.06-2.06.94z\"/><path d=\"M17.41 7.96l-1.37-1.37c-.4-.4-.92-.59-1.43-.59-.52 0-1.04.2-1.43.59L10.3 9.45l-7.72 7.72c-.78.78-.78 2.05 0 2.83L4 21.41c.39.39.9.59 1.41.59.51 0 1.02-.2 1.41-.59l7.78-7.78 2.81-2.81c.8-.78.8-2.07 0-2.86zM5.41 20L4 18.59l7.72-7.72 1.47 1.35L5.41 20z\"/>\n",
              "  </svg>\n",
              "      </button>\n",
              "      \n",
              "  <style>\n",
              "    .colab-df-container {\n",
              "      display:flex;\n",
              "      flex-wrap:wrap;\n",
              "      gap: 12px;\n",
              "    }\n",
              "\n",
              "    .colab-df-convert {\n",
              "      background-color: #E8F0FE;\n",
              "      border: none;\n",
              "      border-radius: 50%;\n",
              "      cursor: pointer;\n",
              "      display: none;\n",
              "      fill: #1967D2;\n",
              "      height: 32px;\n",
              "      padding: 0 0 0 0;\n",
              "      width: 32px;\n",
              "    }\n",
              "\n",
              "    .colab-df-convert:hover {\n",
              "      background-color: #E2EBFA;\n",
              "      box-shadow: 0px 1px 2px rgba(60, 64, 67, 0.3), 0px 1px 3px 1px rgba(60, 64, 67, 0.15);\n",
              "      fill: #174EA6;\n",
              "    }\n",
              "\n",
              "    [theme=dark] .colab-df-convert {\n",
              "      background-color: #3B4455;\n",
              "      fill: #D2E3FC;\n",
              "    }\n",
              "\n",
              "    [theme=dark] .colab-df-convert:hover {\n",
              "      background-color: #434B5C;\n",
              "      box-shadow: 0px 1px 3px 1px rgba(0, 0, 0, 0.15);\n",
              "      filter: drop-shadow(0px 1px 2px rgba(0, 0, 0, 0.3));\n",
              "      fill: #FFFFFF;\n",
              "    }\n",
              "  </style>\n",
              "\n",
              "      <script>\n",
              "        const buttonEl =\n",
              "          document.querySelector('#df-a41c38ca-3860-43e7-9744-f0a5f6c58df0 button.colab-df-convert');\n",
              "        buttonEl.style.display =\n",
              "          google.colab.kernel.accessAllowed ? 'block' : 'none';\n",
              "\n",
              "        async function convertToInteractive(key) {\n",
              "          const element = document.querySelector('#df-a41c38ca-3860-43e7-9744-f0a5f6c58df0');\n",
              "          const dataTable =\n",
              "            await google.colab.kernel.invokeFunction('convertToInteractive',\n",
              "                                                     [key], {});\n",
              "          if (!dataTable) return;\n",
              "\n",
              "          const docLinkHtml = 'Like what you see? Visit the ' +\n",
              "            '<a target=\"_blank\" href=https://colab.research.google.com/notebooks/data_table.ipynb>data table notebook</a>'\n",
              "            + ' to learn more about interactive tables.';\n",
              "          element.innerHTML = '';\n",
              "          dataTable['output_type'] = 'display_data';\n",
              "          await google.colab.output.renderOutput(dataTable, element);\n",
              "          const docLink = document.createElement('div');\n",
              "          docLink.innerHTML = docLinkHtml;\n",
              "          element.appendChild(docLink);\n",
              "        }\n",
              "      </script>\n",
              "    </div>\n",
              "  </div>\n",
              "  "
            ]
          },
          "metadata": {},
          "execution_count": 35
        }
      ],
      "source": [
        "df_train.head()"
      ]
    },
    {
      "cell_type": "code",
      "execution_count": 36,
      "id": "479bab87",
      "metadata": {
        "colab": {
          "base_uri": "https://localhost:8080/"
        },
        "id": "479bab87",
        "outputId": "f73994c0-6305-40b5-f1fe-96739a490f76"
      },
      "outputs": [
        {
          "output_type": "execute_result",
          "data": {
            "text/plain": [
              "path    2000\n",
              "dtype: int64"
            ]
          },
          "metadata": {},
          "execution_count": 36
        }
      ],
      "source": [
        "df_train.count()"
      ]
    },
    {
      "cell_type": "code",
      "source": [
        "df_train.tail()"
      ],
      "metadata": {
        "colab": {
          "base_uri": "https://localhost:8080/",
          "height": 206
        },
        "id": "fvgU1aB-7GAk",
        "outputId": "f347b235-b883-4dcd-d165-5a0898537568"
      },
      "id": "fvgU1aB-7GAk",
      "execution_count": 37,
      "outputs": [
        {
          "output_type": "execute_result",
          "data": {
            "text/plain": [
              "                          path\n",
              "1995  common_voice_en_19942364\n",
              "1996  common_voice_en_19942773\n",
              "1997  common_voice_en_19943077\n",
              "1998  common_voice_en_19945681\n",
              "1999  common_voice_en_19945916"
            ],
            "text/html": [
              "\n",
              "  <div id=\"df-2e5479f3-45ad-4286-b0e0-47347407d16d\">\n",
              "    <div class=\"colab-df-container\">\n",
              "      <div>\n",
              "<style scoped>\n",
              "    .dataframe tbody tr th:only-of-type {\n",
              "        vertical-align: middle;\n",
              "    }\n",
              "\n",
              "    .dataframe tbody tr th {\n",
              "        vertical-align: top;\n",
              "    }\n",
              "\n",
              "    .dataframe thead th {\n",
              "        text-align: right;\n",
              "    }\n",
              "</style>\n",
              "<table border=\"1\" class=\"dataframe\">\n",
              "  <thead>\n",
              "    <tr style=\"text-align: right;\">\n",
              "      <th></th>\n",
              "      <th>path</th>\n",
              "    </tr>\n",
              "  </thead>\n",
              "  <tbody>\n",
              "    <tr>\n",
              "      <th>1995</th>\n",
              "      <td>common_voice_en_19942364</td>\n",
              "    </tr>\n",
              "    <tr>\n",
              "      <th>1996</th>\n",
              "      <td>common_voice_en_19942773</td>\n",
              "    </tr>\n",
              "    <tr>\n",
              "      <th>1997</th>\n",
              "      <td>common_voice_en_19943077</td>\n",
              "    </tr>\n",
              "    <tr>\n",
              "      <th>1998</th>\n",
              "      <td>common_voice_en_19945681</td>\n",
              "    </tr>\n",
              "    <tr>\n",
              "      <th>1999</th>\n",
              "      <td>common_voice_en_19945916</td>\n",
              "    </tr>\n",
              "  </tbody>\n",
              "</table>\n",
              "</div>\n",
              "      <button class=\"colab-df-convert\" onclick=\"convertToInteractive('df-2e5479f3-45ad-4286-b0e0-47347407d16d')\"\n",
              "              title=\"Convert this dataframe to an interactive table.\"\n",
              "              style=\"display:none;\">\n",
              "        \n",
              "  <svg xmlns=\"http://www.w3.org/2000/svg\" height=\"24px\"viewBox=\"0 0 24 24\"\n",
              "       width=\"24px\">\n",
              "    <path d=\"M0 0h24v24H0V0z\" fill=\"none\"/>\n",
              "    <path d=\"M18.56 5.44l.94 2.06.94-2.06 2.06-.94-2.06-.94-.94-2.06-.94 2.06-2.06.94zm-11 1L8.5 8.5l.94-2.06 2.06-.94-2.06-.94L8.5 2.5l-.94 2.06-2.06.94zm10 10l.94 2.06.94-2.06 2.06-.94-2.06-.94-.94-2.06-.94 2.06-2.06.94z\"/><path d=\"M17.41 7.96l-1.37-1.37c-.4-.4-.92-.59-1.43-.59-.52 0-1.04.2-1.43.59L10.3 9.45l-7.72 7.72c-.78.78-.78 2.05 0 2.83L4 21.41c.39.39.9.59 1.41.59.51 0 1.02-.2 1.41-.59l7.78-7.78 2.81-2.81c.8-.78.8-2.07 0-2.86zM5.41 20L4 18.59l7.72-7.72 1.47 1.35L5.41 20z\"/>\n",
              "  </svg>\n",
              "      </button>\n",
              "      \n",
              "  <style>\n",
              "    .colab-df-container {\n",
              "      display:flex;\n",
              "      flex-wrap:wrap;\n",
              "      gap: 12px;\n",
              "    }\n",
              "\n",
              "    .colab-df-convert {\n",
              "      background-color: #E8F0FE;\n",
              "      border: none;\n",
              "      border-radius: 50%;\n",
              "      cursor: pointer;\n",
              "      display: none;\n",
              "      fill: #1967D2;\n",
              "      height: 32px;\n",
              "      padding: 0 0 0 0;\n",
              "      width: 32px;\n",
              "    }\n",
              "\n",
              "    .colab-df-convert:hover {\n",
              "      background-color: #E2EBFA;\n",
              "      box-shadow: 0px 1px 2px rgba(60, 64, 67, 0.3), 0px 1px 3px 1px rgba(60, 64, 67, 0.15);\n",
              "      fill: #174EA6;\n",
              "    }\n",
              "\n",
              "    [theme=dark] .colab-df-convert {\n",
              "      background-color: #3B4455;\n",
              "      fill: #D2E3FC;\n",
              "    }\n",
              "\n",
              "    [theme=dark] .colab-df-convert:hover {\n",
              "      background-color: #434B5C;\n",
              "      box-shadow: 0px 1px 3px 1px rgba(0, 0, 0, 0.15);\n",
              "      filter: drop-shadow(0px 1px 2px rgba(0, 0, 0, 0.3));\n",
              "      fill: #FFFFFF;\n",
              "    }\n",
              "  </style>\n",
              "\n",
              "      <script>\n",
              "        const buttonEl =\n",
              "          document.querySelector('#df-2e5479f3-45ad-4286-b0e0-47347407d16d button.colab-df-convert');\n",
              "        buttonEl.style.display =\n",
              "          google.colab.kernel.accessAllowed ? 'block' : 'none';\n",
              "\n",
              "        async function convertToInteractive(key) {\n",
              "          const element = document.querySelector('#df-2e5479f3-45ad-4286-b0e0-47347407d16d');\n",
              "          const dataTable =\n",
              "            await google.colab.kernel.invokeFunction('convertToInteractive',\n",
              "                                                     [key], {});\n",
              "          if (!dataTable) return;\n",
              "\n",
              "          const docLinkHtml = 'Like what you see? Visit the ' +\n",
              "            '<a target=\"_blank\" href=https://colab.research.google.com/notebooks/data_table.ipynb>data table notebook</a>'\n",
              "            + ' to learn more about interactive tables.';\n",
              "          element.innerHTML = '';\n",
              "          dataTable['output_type'] = 'display_data';\n",
              "          await google.colab.output.renderOutput(dataTable, element);\n",
              "          const docLink = document.createElement('div');\n",
              "          docLink.innerHTML = docLinkHtml;\n",
              "          element.appendChild(docLink);\n",
              "        }\n",
              "      </script>\n",
              "    </div>\n",
              "  </div>\n",
              "  "
            ]
          },
          "metadata": {},
          "execution_count": 37
        }
      ]
    },
    {
      "cell_type": "code",
      "execution_count": 38,
      "id": "4ac71f57",
      "metadata": {
        "id": "4ac71f57",
        "outputId": "d866182d-2f1c-40b1-fe8f-86b480952ca4",
        "colab": {
          "base_uri": "https://localhost:8080/"
        }
      },
      "outputs": [
        {
          "output_type": "stream",
          "name": "stdout",
          "text": [
            "common_voice_en_10110\n",
            "common_voice_en_10153\n",
            "common_voice_en_101622\n",
            "common_voice_en_10187\n",
            "common_voice_en_10199\n",
            "common_voice_en_102027\n",
            "common_voice_en_102830\n",
            "common_voice_en_110094\n",
            "common_voice_en_111910\n",
            "common_voice_en_111913\n"
          ]
        }
      ],
      "source": [
        "for i in range(10):\n",
        "    print(df_train['path'][i])"
      ]
    },
    {
      "cell_type": "code",
      "execution_count": 39,
      "id": "211a7cd8",
      "metadata": {
        "id": "211a7cd8",
        "outputId": "6729e7da-9bcc-42a7-e471-aad9a970b71f",
        "colab": {
          "base_uri": "https://localhost:8080/",
          "height": 53
        }
      },
      "outputs": [
        {
          "output_type": "stream",
          "name": "stdout",
          "text": [
            "common_voice_en_10153\n"
          ]
        },
        {
          "output_type": "execute_result",
          "data": {
            "text/plain": [
              "'/content/source/common_voice_en_10153'"
            ],
            "application/vnd.google.colaboratory.intrinsic+json": {
              "type": "string"
            }
          },
          "metadata": {},
          "execution_count": 39
        }
      ],
      "source": [
        "source_path = '/content/source'\n",
        "destination = '/content/destination'\n",
        "\n",
        "import os, sys\n",
        "i = 1\n",
        "sound_path = df_train['path'].values[i]\n",
        "print(sound_path)\n",
        "\n",
        "os.path.join(source_path,sound_path)"
      ]
    },
    {
      "cell_type": "markdown",
      "source": [
        "Checking if files are present there."
      ],
      "metadata": {
        "id": "n6IAzp8ehh8B"
      },
      "id": "n6IAzp8ehh8B"
    },
    {
      "cell_type": "code",
      "execution_count": 40,
      "id": "d678d52d",
      "metadata": {
        "id": "d678d52d",
        "colab": {
          "base_uri": "https://localhost:8080/"
        },
        "outputId": "0f8bac50-e71b-42b3-84ac-46b283304dad"
      },
      "outputs": [
        {
          "output_type": "stream",
          "name": "stdout",
          "text": [
            "common_voice_en_10199.wav\n"
          ]
        }
      ],
      "source": [
        "import os\n",
        "\n",
        "source_path = '/content/source'\n",
        "destination = '/content/destination'\n",
        "\n",
        "files = os.listdir(source_path)\n",
        "print(files[3])\n",
        "\n",
        "\n",
        "\n",
        "    \n",
        "    "
      ]
    },
    {
      "cell_type": "markdown",
      "source": [
        "# The actual process to copy only those files which are in the tsv file to the new destination path."
      ],
      "metadata": {
        "id": "L3TAOymjhgiA"
      },
      "id": "L3TAOymjhgiA"
    },
    {
      "cell_type": "code",
      "source": [
        "import shutil\n",
        "\n",
        "source_path = '/content/source'\n",
        "destination_path = '/content/destination'\n",
        "\n",
        "for i in range(len(df_train)):\n",
        "    # print(df_train['path'][i])\n",
        "    sound_path = df_train['path'].values[i] + '.wav'\n",
        "    # print(sound_path)\n",
        "    \n",
        "    if sound_path in files:\n",
        "      print(sound_path)\n",
        "      file_path_to_copy = os.path.join(source_path,sound_path)\n",
        "      # print(file_path_to_copy)\n",
        "      shutil.copy(file_path_to_copy, destination_path)    "
      ],
      "metadata": {
        "colab": {
          "base_uri": "https://localhost:8080/"
        },
        "id": "R5ivq0pQhI9I",
        "outputId": "cf8b4aae-a6ab-409a-bed8-201d82103dc5"
      },
      "id": "R5ivq0pQhI9I",
      "execution_count": 41,
      "outputs": [
        {
          "output_type": "stream",
          "name": "stdout",
          "text": [
            "common_voice_en_10110.wav\n",
            "common_voice_en_10153.wav\n",
            "common_voice_en_101622.wav\n",
            "common_voice_en_10187.wav\n",
            "common_voice_en_10199.wav\n"
          ]
        }
      ]
    },
    {
      "cell_type": "markdown",
      "id": "1b0bf9ac",
      "metadata": {
        "id": "1b0bf9ac"
      },
      "source": [
        "# BELOW HERE FOR TEST DATASET"
      ]
    },
    {
      "cell_type": "markdown",
      "source": [
        "Reading the tsv (Tab-seperated values) files using pandas and using column \"path\" as the column to be included."
      ],
      "metadata": {
        "id": "so2t0V_Tcuyx"
      },
      "id": "so2t0V_Tcuyx"
    },
    {
      "cell_type": "code",
      "execution_count": 21,
      "id": "6e0ab9d8",
      "metadata": {
        "id": "6e0ab9d8"
      },
      "outputs": [],
      "source": [
        "df_test = pd.read_csv('/content/test.tsv', sep = '\\t', usecols = ['path'])"
      ]
    },
    {
      "cell_type": "code",
      "execution_count": 22,
      "id": "660a25df",
      "metadata": {
        "id": "660a25df",
        "outputId": "b74c5935-be4a-42e7-f688-be9dd6f710a5",
        "colab": {
          "base_uri": "https://localhost:8080/",
          "height": 206
        }
      },
      "outputs": [
        {
          "output_type": "execute_result",
          "data": {
            "text/plain": [
              "                     path\n",
              "0   common_voice_en_10110\n",
              "1   common_voice_en_10153\n",
              "2  common_voice_en_101622\n",
              "3   common_voice_en_10187\n",
              "4   common_voice_en_10199"
            ],
            "text/html": [
              "\n",
              "  <div id=\"df-2fdbe934-2cad-4bdb-8c04-67698d46b83f\">\n",
              "    <div class=\"colab-df-container\">\n",
              "      <div>\n",
              "<style scoped>\n",
              "    .dataframe tbody tr th:only-of-type {\n",
              "        vertical-align: middle;\n",
              "    }\n",
              "\n",
              "    .dataframe tbody tr th {\n",
              "        vertical-align: top;\n",
              "    }\n",
              "\n",
              "    .dataframe thead th {\n",
              "        text-align: right;\n",
              "    }\n",
              "</style>\n",
              "<table border=\"1\" class=\"dataframe\">\n",
              "  <thead>\n",
              "    <tr style=\"text-align: right;\">\n",
              "      <th></th>\n",
              "      <th>path</th>\n",
              "    </tr>\n",
              "  </thead>\n",
              "  <tbody>\n",
              "    <tr>\n",
              "      <th>0</th>\n",
              "      <td>common_voice_en_10110</td>\n",
              "    </tr>\n",
              "    <tr>\n",
              "      <th>1</th>\n",
              "      <td>common_voice_en_10153</td>\n",
              "    </tr>\n",
              "    <tr>\n",
              "      <th>2</th>\n",
              "      <td>common_voice_en_101622</td>\n",
              "    </tr>\n",
              "    <tr>\n",
              "      <th>3</th>\n",
              "      <td>common_voice_en_10187</td>\n",
              "    </tr>\n",
              "    <tr>\n",
              "      <th>4</th>\n",
              "      <td>common_voice_en_10199</td>\n",
              "    </tr>\n",
              "  </tbody>\n",
              "</table>\n",
              "</div>\n",
              "      <button class=\"colab-df-convert\" onclick=\"convertToInteractive('df-2fdbe934-2cad-4bdb-8c04-67698d46b83f')\"\n",
              "              title=\"Convert this dataframe to an interactive table.\"\n",
              "              style=\"display:none;\">\n",
              "        \n",
              "  <svg xmlns=\"http://www.w3.org/2000/svg\" height=\"24px\"viewBox=\"0 0 24 24\"\n",
              "       width=\"24px\">\n",
              "    <path d=\"M0 0h24v24H0V0z\" fill=\"none\"/>\n",
              "    <path d=\"M18.56 5.44l.94 2.06.94-2.06 2.06-.94-2.06-.94-.94-2.06-.94 2.06-2.06.94zm-11 1L8.5 8.5l.94-2.06 2.06-.94-2.06-.94L8.5 2.5l-.94 2.06-2.06.94zm10 10l.94 2.06.94-2.06 2.06-.94-2.06-.94-.94-2.06-.94 2.06-2.06.94z\"/><path d=\"M17.41 7.96l-1.37-1.37c-.4-.4-.92-.59-1.43-.59-.52 0-1.04.2-1.43.59L10.3 9.45l-7.72 7.72c-.78.78-.78 2.05 0 2.83L4 21.41c.39.39.9.59 1.41.59.51 0 1.02-.2 1.41-.59l7.78-7.78 2.81-2.81c.8-.78.8-2.07 0-2.86zM5.41 20L4 18.59l7.72-7.72 1.47 1.35L5.41 20z\"/>\n",
              "  </svg>\n",
              "      </button>\n",
              "      \n",
              "  <style>\n",
              "    .colab-df-container {\n",
              "      display:flex;\n",
              "      flex-wrap:wrap;\n",
              "      gap: 12px;\n",
              "    }\n",
              "\n",
              "    .colab-df-convert {\n",
              "      background-color: #E8F0FE;\n",
              "      border: none;\n",
              "      border-radius: 50%;\n",
              "      cursor: pointer;\n",
              "      display: none;\n",
              "      fill: #1967D2;\n",
              "      height: 32px;\n",
              "      padding: 0 0 0 0;\n",
              "      width: 32px;\n",
              "    }\n",
              "\n",
              "    .colab-df-convert:hover {\n",
              "      background-color: #E2EBFA;\n",
              "      box-shadow: 0px 1px 2px rgba(60, 64, 67, 0.3), 0px 1px 3px 1px rgba(60, 64, 67, 0.15);\n",
              "      fill: #174EA6;\n",
              "    }\n",
              "\n",
              "    [theme=dark] .colab-df-convert {\n",
              "      background-color: #3B4455;\n",
              "      fill: #D2E3FC;\n",
              "    }\n",
              "\n",
              "    [theme=dark] .colab-df-convert:hover {\n",
              "      background-color: #434B5C;\n",
              "      box-shadow: 0px 1px 3px 1px rgba(0, 0, 0, 0.15);\n",
              "      filter: drop-shadow(0px 1px 2px rgba(0, 0, 0, 0.3));\n",
              "      fill: #FFFFFF;\n",
              "    }\n",
              "  </style>\n",
              "\n",
              "      <script>\n",
              "        const buttonEl =\n",
              "          document.querySelector('#df-2fdbe934-2cad-4bdb-8c04-67698d46b83f button.colab-df-convert');\n",
              "        buttonEl.style.display =\n",
              "          google.colab.kernel.accessAllowed ? 'block' : 'none';\n",
              "\n",
              "        async function convertToInteractive(key) {\n",
              "          const element = document.querySelector('#df-2fdbe934-2cad-4bdb-8c04-67698d46b83f');\n",
              "          const dataTable =\n",
              "            await google.colab.kernel.invokeFunction('convertToInteractive',\n",
              "                                                     [key], {});\n",
              "          if (!dataTable) return;\n",
              "\n",
              "          const docLinkHtml = 'Like what you see? Visit the ' +\n",
              "            '<a target=\"_blank\" href=https://colab.research.google.com/notebooks/data_table.ipynb>data table notebook</a>'\n",
              "            + ' to learn more about interactive tables.';\n",
              "          element.innerHTML = '';\n",
              "          dataTable['output_type'] = 'display_data';\n",
              "          await google.colab.output.renderOutput(dataTable, element);\n",
              "          const docLink = document.createElement('div');\n",
              "          docLink.innerHTML = docLinkHtml;\n",
              "          element.appendChild(docLink);\n",
              "        }\n",
              "      </script>\n",
              "    </div>\n",
              "  </div>\n",
              "  "
            ]
          },
          "metadata": {},
          "execution_count": 22
        }
      ],
      "source": [
        "df_test.head()"
      ]
    },
    {
      "cell_type": "code",
      "source": [
        "df_test.tail()"
      ],
      "metadata": {
        "colab": {
          "base_uri": "https://localhost:8080/",
          "height": 206
        },
        "id": "l4-QuvN9dFLn",
        "outputId": "d18a0701-3242-4820-9272-21f8e33aeee4"
      },
      "id": "l4-QuvN9dFLn",
      "execution_count": 23,
      "outputs": [
        {
          "output_type": "execute_result",
          "data": {
            "text/plain": [
              "                          path\n",
              "1995  common_voice_en_19942364\n",
              "1996  common_voice_en_19942773\n",
              "1997  common_voice_en_19943077\n",
              "1998  common_voice_en_19945681\n",
              "1999  common_voice_en_19945916"
            ],
            "text/html": [
              "\n",
              "  <div id=\"df-a325b486-d149-4aae-8adf-50a5331800ed\">\n",
              "    <div class=\"colab-df-container\">\n",
              "      <div>\n",
              "<style scoped>\n",
              "    .dataframe tbody tr th:only-of-type {\n",
              "        vertical-align: middle;\n",
              "    }\n",
              "\n",
              "    .dataframe tbody tr th {\n",
              "        vertical-align: top;\n",
              "    }\n",
              "\n",
              "    .dataframe thead th {\n",
              "        text-align: right;\n",
              "    }\n",
              "</style>\n",
              "<table border=\"1\" class=\"dataframe\">\n",
              "  <thead>\n",
              "    <tr style=\"text-align: right;\">\n",
              "      <th></th>\n",
              "      <th>path</th>\n",
              "    </tr>\n",
              "  </thead>\n",
              "  <tbody>\n",
              "    <tr>\n",
              "      <th>1995</th>\n",
              "      <td>common_voice_en_19942364</td>\n",
              "    </tr>\n",
              "    <tr>\n",
              "      <th>1996</th>\n",
              "      <td>common_voice_en_19942773</td>\n",
              "    </tr>\n",
              "    <tr>\n",
              "      <th>1997</th>\n",
              "      <td>common_voice_en_19943077</td>\n",
              "    </tr>\n",
              "    <tr>\n",
              "      <th>1998</th>\n",
              "      <td>common_voice_en_19945681</td>\n",
              "    </tr>\n",
              "    <tr>\n",
              "      <th>1999</th>\n",
              "      <td>common_voice_en_19945916</td>\n",
              "    </tr>\n",
              "  </tbody>\n",
              "</table>\n",
              "</div>\n",
              "      <button class=\"colab-df-convert\" onclick=\"convertToInteractive('df-a325b486-d149-4aae-8adf-50a5331800ed')\"\n",
              "              title=\"Convert this dataframe to an interactive table.\"\n",
              "              style=\"display:none;\">\n",
              "        \n",
              "  <svg xmlns=\"http://www.w3.org/2000/svg\" height=\"24px\"viewBox=\"0 0 24 24\"\n",
              "       width=\"24px\">\n",
              "    <path d=\"M0 0h24v24H0V0z\" fill=\"none\"/>\n",
              "    <path d=\"M18.56 5.44l.94 2.06.94-2.06 2.06-.94-2.06-.94-.94-2.06-.94 2.06-2.06.94zm-11 1L8.5 8.5l.94-2.06 2.06-.94-2.06-.94L8.5 2.5l-.94 2.06-2.06.94zm10 10l.94 2.06.94-2.06 2.06-.94-2.06-.94-.94-2.06-.94 2.06-2.06.94z\"/><path d=\"M17.41 7.96l-1.37-1.37c-.4-.4-.92-.59-1.43-.59-.52 0-1.04.2-1.43.59L10.3 9.45l-7.72 7.72c-.78.78-.78 2.05 0 2.83L4 21.41c.39.39.9.59 1.41.59.51 0 1.02-.2 1.41-.59l7.78-7.78 2.81-2.81c.8-.78.8-2.07 0-2.86zM5.41 20L4 18.59l7.72-7.72 1.47 1.35L5.41 20z\"/>\n",
              "  </svg>\n",
              "      </button>\n",
              "      \n",
              "  <style>\n",
              "    .colab-df-container {\n",
              "      display:flex;\n",
              "      flex-wrap:wrap;\n",
              "      gap: 12px;\n",
              "    }\n",
              "\n",
              "    .colab-df-convert {\n",
              "      background-color: #E8F0FE;\n",
              "      border: none;\n",
              "      border-radius: 50%;\n",
              "      cursor: pointer;\n",
              "      display: none;\n",
              "      fill: #1967D2;\n",
              "      height: 32px;\n",
              "      padding: 0 0 0 0;\n",
              "      width: 32px;\n",
              "    }\n",
              "\n",
              "    .colab-df-convert:hover {\n",
              "      background-color: #E2EBFA;\n",
              "      box-shadow: 0px 1px 2px rgba(60, 64, 67, 0.3), 0px 1px 3px 1px rgba(60, 64, 67, 0.15);\n",
              "      fill: #174EA6;\n",
              "    }\n",
              "\n",
              "    [theme=dark] .colab-df-convert {\n",
              "      background-color: #3B4455;\n",
              "      fill: #D2E3FC;\n",
              "    }\n",
              "\n",
              "    [theme=dark] .colab-df-convert:hover {\n",
              "      background-color: #434B5C;\n",
              "      box-shadow: 0px 1px 3px 1px rgba(0, 0, 0, 0.15);\n",
              "      filter: drop-shadow(0px 1px 2px rgba(0, 0, 0, 0.3));\n",
              "      fill: #FFFFFF;\n",
              "    }\n",
              "  </style>\n",
              "\n",
              "      <script>\n",
              "        const buttonEl =\n",
              "          document.querySelector('#df-a325b486-d149-4aae-8adf-50a5331800ed button.colab-df-convert');\n",
              "        buttonEl.style.display =\n",
              "          google.colab.kernel.accessAllowed ? 'block' : 'none';\n",
              "\n",
              "        async function convertToInteractive(key) {\n",
              "          const element = document.querySelector('#df-a325b486-d149-4aae-8adf-50a5331800ed');\n",
              "          const dataTable =\n",
              "            await google.colab.kernel.invokeFunction('convertToInteractive',\n",
              "                                                     [key], {});\n",
              "          if (!dataTable) return;\n",
              "\n",
              "          const docLinkHtml = 'Like what you see? Visit the ' +\n",
              "            '<a target=\"_blank\" href=https://colab.research.google.com/notebooks/data_table.ipynb>data table notebook</a>'\n",
              "            + ' to learn more about interactive tables.';\n",
              "          element.innerHTML = '';\n",
              "          dataTable['output_type'] = 'display_data';\n",
              "          await google.colab.output.renderOutput(dataTable, element);\n",
              "          const docLink = document.createElement('div');\n",
              "          docLink.innerHTML = docLinkHtml;\n",
              "          element.appendChild(docLink);\n",
              "        }\n",
              "      </script>\n",
              "    </div>\n",
              "  </div>\n",
              "  "
            ]
          },
          "metadata": {},
          "execution_count": 23
        }
      ]
    },
    {
      "cell_type": "code",
      "execution_count": 24,
      "id": "c10a44ad",
      "metadata": {
        "id": "c10a44ad",
        "outputId": "6d2d0d90-3a7d-43e9-9d45-496823c6e400",
        "colab": {
          "base_uri": "https://localhost:8080/"
        }
      },
      "outputs": [
        {
          "output_type": "execute_result",
          "data": {
            "text/plain": [
              "path    2000\n",
              "dtype: int64"
            ]
          },
          "metadata": {},
          "execution_count": 24
        }
      ],
      "source": [
        "df_test.count()"
      ]
    },
    {
      "cell_type": "code",
      "source": [
        "len(df_test)"
      ],
      "metadata": {
        "colab": {
          "base_uri": "https://localhost:8080/"
        },
        "id": "g-IQ8WuJ72O4",
        "outputId": "c1880f6d-f463-4154-c4e2-ef271da657a3"
      },
      "id": "g-IQ8WuJ72O4",
      "execution_count": 25,
      "outputs": [
        {
          "output_type": "execute_result",
          "data": {
            "text/plain": [
              "2000"
            ]
          },
          "metadata": {},
          "execution_count": 25
        }
      ]
    },
    {
      "cell_type": "code",
      "execution_count": 26,
      "id": "05384dfd",
      "metadata": {
        "id": "05384dfd",
        "outputId": "ce5649f6-9d00-400b-ab4b-30090a8df470",
        "colab": {
          "base_uri": "https://localhost:8080/"
        }
      },
      "outputs": [
        {
          "output_type": "stream",
          "name": "stdout",
          "text": [
            "common_voice_en_10110\n",
            "common_voice_en_10153\n",
            "common_voice_en_101622\n",
            "common_voice_en_10187\n",
            "common_voice_en_10199\n",
            "common_voice_en_102027\n",
            "common_voice_en_102830\n",
            "common_voice_en_110094\n",
            "common_voice_en_111910\n",
            "common_voice_en_111913\n"
          ]
        }
      ],
      "source": [
        "for i in range(10):\n",
        "    print(df_test['path'][i])"
      ]
    },
    {
      "cell_type": "markdown",
      "source": [
        "Specifying the source to extract files and the destination to copy file at that location. In my case I am using the google colaboratory."
      ],
      "metadata": {
        "id": "jo2ZuqvOdLZK"
      },
      "id": "jo2ZuqvOdLZK"
    },
    {
      "cell_type": "code",
      "execution_count": 27,
      "id": "c898f564",
      "metadata": {
        "id": "c898f564"
      },
      "outputs": [],
      "source": [
        "source_test = '/content/source'\n",
        "destination_test = '/content/destination'"
      ]
    },
    {
      "cell_type": "markdown",
      "source": [
        "**Testing with single file before trying to perform in bulk of files.**"
      ],
      "metadata": {
        "id": "qa1ndIZudmNb"
      },
      "id": "qa1ndIZudmNb"
    },
    {
      "cell_type": "code",
      "execution_count": 28,
      "id": "94313d3a",
      "metadata": {
        "id": "94313d3a",
        "outputId": "21126bcc-26b7-4e27-aa07-b3114791dce3",
        "colab": {
          "base_uri": "https://localhost:8080/"
        }
      },
      "outputs": [
        {
          "output_type": "stream",
          "name": "stdout",
          "text": [
            "common_voice_en_10153\n",
            "/content/source/common_voice_en_10153\n",
            "common_voice_en_110094\n",
            "/content/source/common_voice_en_110094\n"
          ]
        }
      ],
      "source": [
        "import os, sys\n",
        "i = 1\n",
        "temp_path_test = df_test['path'].values[i]\n",
        "print(temp_path_test)\n",
        "\n",
        "print(os.path.join(source_test,temp_path_test))\n",
        "\n",
        "i = 7\n",
        "temp_path_test = df_test['path'].values[i]\n",
        "print(temp_path_test)\n",
        "print(os.path.join(source_test,temp_path_test))\n",
        "\n",
        "\n"
      ]
    },
    {
      "cell_type": "markdown",
      "source": [
        "Checking what files are in the source."
      ],
      "metadata": {
        "id": "gLdnDTTmeLtd"
      },
      "id": "gLdnDTTmeLtd"
    },
    {
      "cell_type": "code",
      "execution_count": 30,
      "id": "41cdd244",
      "metadata": {
        "id": "41cdd244",
        "colab": {
          "base_uri": "https://localhost:8080/"
        },
        "outputId": "2973ba37-8e14-4698-808b-4665c46073fe"
      },
      "outputs": [
        {
          "output_type": "stream",
          "name": "stdout",
          "text": [
            "common_voice_en_101622.wav\n",
            "common_voice_en_10110.wav\n",
            "common_voice_en_10187.wav\n",
            "common_voice_en_10199.wav\n",
            "common_voice_en_10153.wav\n"
          ]
        },
        {
          "output_type": "execute_result",
          "data": {
            "text/plain": [
              "5"
            ]
          },
          "metadata": {},
          "execution_count": 30
        }
      ],
      "source": [
        "source_path = '/content/source'\n",
        "destination_path = '/content/destination'\n",
        "\n",
        "files = os.listdir(source_path)\n",
        "for file in files:\n",
        "  print(file)\n",
        "\n",
        "len(files)"
      ]
    },
    {
      "cell_type": "code",
      "source": [
        "if 'common_voice_en_101622.wav' in files:\n",
        "  print('ok')"
      ],
      "metadata": {
        "colab": {
          "base_uri": "https://localhost:8080/"
        },
        "id": "Ahh7KYmbbBoF",
        "outputId": "9db8219b-c9ec-482e-815d-fb67c9b019a5"
      },
      "id": "Ahh7KYmbbBoF",
      "execution_count": 31,
      "outputs": [
        {
          "output_type": "stream",
          "name": "stdout",
          "text": [
            "ok\n"
          ]
        }
      ]
    },
    {
      "cell_type": "markdown",
      "source": [
        "# The actual process to copy only those files which are in the tsv file to the new destination path."
      ],
      "metadata": {
        "id": "mnhGqtbXe5DM"
      },
      "id": "mnhGqtbXe5DM"
    },
    {
      "cell_type": "code",
      "execution_count": 32,
      "id": "98e37f0e",
      "metadata": {
        "id": "98e37f0e",
        "colab": {
          "base_uri": "https://localhost:8080/"
        },
        "outputId": "67cbdf96-6c52-44cb-88cf-eed7f1b9549a"
      },
      "outputs": [
        {
          "output_type": "stream",
          "name": "stdout",
          "text": [
            "common_voice_en_10110.wav\n",
            "common_voice_en_10153.wav\n",
            "common_voice_en_101622.wav\n",
            "common_voice_en_10187.wav\n",
            "common_voice_en_10199.wav\n"
          ]
        }
      ],
      "source": [
        "import shutil\n",
        "\n",
        "source_path = '/content/source'\n",
        "destination_path = '/content/destination'\n",
        "\n",
        "for i in range(len(df_test)):\n",
        "    # print(df_test['path'][i])\n",
        "    sound_path = df_test['path'].values[i] + '.wav'\n",
        "    # print(sound_path)\n",
        "    \n",
        "    if sound_path in files:\n",
        "      print(sound_path)\n",
        "      file_path_to_copy = os.path.join(source_path,sound_path)\n",
        "      # print(file_path_to_copy)\n",
        "      shutil.copy(file_path_to_copy, destination_path)    "
      ]
    }
  ],
  "metadata": {
    "kernelspec": {
      "display_name": "Python 3 (ipykernel)",
      "language": "python",
      "name": "python3"
    },
    "language_info": {
      "codemirror_mode": {
        "name": "ipython",
        "version": 3
      },
      "file_extension": ".py",
      "mimetype": "text/x-python",
      "name": "python",
      "nbconvert_exporter": "python",
      "pygments_lexer": "ipython3",
      "version": "3.9.10"
    },
    "colab": {
      "provenance": [],
      "collapsed_sections": []
    }
  },
  "nbformat": 4,
  "nbformat_minor": 5
}