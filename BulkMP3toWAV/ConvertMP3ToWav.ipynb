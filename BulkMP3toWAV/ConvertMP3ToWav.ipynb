{
  "nbformat": 4,
  "nbformat_minor": 0,
  "metadata": {
    "colab": {
      "provenance": [],
      "collapsed_sections": []
    },
    "kernelspec": {
      "name": "python3",
      "display_name": "Python 3"
    },
    "language_info": {
      "name": "python"
    }
  },
  "cells": [
    {
      "cell_type": "code",
      "source": [
        "from google.colab import drive\n",
        "drive.mount('/content/drive')"
      ],
      "metadata": {
        "colab": {
          "base_uri": "https://localhost:8080/"
        },
        "id": "wcNdAzN2eM_3",
        "outputId": "8fdc0cfa-4e5e-4f8e-d4be-959479ab5808"
      },
      "execution_count": 10,
      "outputs": [
        {
          "output_type": "stream",
          "name": "stdout",
          "text": [
            "Drive already mounted at /content/drive; to attempt to forcibly remount, call drive.mount(\"/content/drive\", force_remount=True).\n"
          ]
        }
      ]
    },
    {
      "cell_type": "markdown",
      "source": [
        "# Installing required packages"
      ],
      "metadata": {
        "id": "tUR8xg27nJ7V"
      }
    },
    {
      "cell_type": "code",
      "source": [
        "!pip install pydub"
      ],
      "metadata": {
        "colab": {
          "base_uri": "https://localhost:8080/"
        },
        "id": "QbBgCcRbqF39",
        "outputId": "42bdb66e-d3d5-4d1b-b0e0-5d871779b055"
      },
      "execution_count": 11,
      "outputs": [
        {
          "output_type": "stream",
          "name": "stdout",
          "text": [
            "Looking in indexes: https://pypi.org/simple, https://us-python.pkg.dev/colab-wheels/public/simple/\n",
            "Requirement already satisfied: pydub in /usr/local/lib/python3.7/dist-packages (0.25.1)\n"
          ]
        }
      ]
    },
    {
      "cell_type": "code",
      "source": [
        "!sudo apt-get install ffmpeg"
      ],
      "metadata": {
        "colab": {
          "base_uri": "https://localhost:8080/"
        },
        "id": "pOtAW4HmqIE1",
        "outputId": "b3f5c7e6-2cd8-4192-e195-b470cc1e40d3"
      },
      "execution_count": 12,
      "outputs": [
        {
          "output_type": "stream",
          "name": "stdout",
          "text": [
            "Reading package lists... Done\n",
            "Building dependency tree       \n",
            "Reading state information... Done\n",
            "ffmpeg is already the newest version (7:3.4.11-0ubuntu0.1).\n",
            "The following package was automatically installed and is no longer required:\n",
            "  libnvidia-common-460\n",
            "Use 'sudo apt autoremove' to remove it.\n",
            "0 upgraded, 0 newly installed, 0 to remove and 20 not upgraded.\n"
          ]
        }
      ]
    },
    {
      "cell_type": "markdown",
      "source": [
        "**Inspecting the contents in the source path.**"
      ],
      "metadata": {
        "id": "xV7VneCVnX_1"
      }
    },
    {
      "cell_type": "code",
      "source": [
        "import os\n",
        "\n",
        "path = \"/content/source\"\n",
        "destination = '/content/destination'\n",
        "\n",
        "audio_files = os.listdir(path)\n",
        "print(len(audio_files))"
      ],
      "metadata": {
        "id": "QA7zfA8qiIvm",
        "colab": {
          "base_uri": "https://localhost:8080/"
        },
        "outputId": "27bf4201-3c50-443f-9906-15872c8f22f2"
      },
      "execution_count": 13,
      "outputs": [
        {
          "output_type": "stream",
          "name": "stdout",
          "text": [
            "5\n"
          ]
        }
      ]
    },
    {
      "cell_type": "markdown",
      "source": [
        "The below code is used to convert bulk mp3 files to wav file."
      ],
      "metadata": {
        "id": "mk1VLMpPnetK"
      }
    },
    {
      "cell_type": "code",
      "source": [
        "from pydub import AudioSegment\n",
        "\n",
        "# You dont need the number of files in the folder, just iterate over them directly using:\n",
        "for file in audio_files:\n",
        "    #Splitting the file into the name and the extension\n",
        "    name, ext = os.path.splitext(file)\n",
        "    # print(name, ext)\n",
        "    if ext == \".mp3\":\n",
        "       mp3_sound = AudioSegment.from_mp3(file)\n",
        "       #Rename them using the old name + \".wav\"\n",
        "       mp3_sound.export(out_f=os.path.join(destination,\"{0}.wav\".format(name)), format=\"wav\")\n",
        "\n",
        "print('Success')"
      ],
      "metadata": {
        "colab": {
          "base_uri": "https://localhost:8080/"
        },
        "id": "d802qj62l_h9",
        "outputId": "5f3f3593-c60e-4393-b449-d1554b960d58"
      },
      "execution_count": 14,
      "outputs": [
        {
          "output_type": "stream",
          "name": "stdout",
          "text": [
            "Success\n"
          ]
        }
      ]
    }
  ]
}